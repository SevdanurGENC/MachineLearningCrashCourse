{
 "cells": [
  {
   "cell_type": "code",
   "execution_count": 1,
   "metadata": {},
   "outputs": [
    {
     "name": "stdout",
     "output_type": "stream",
     "text": [
      "Imported the modules.\n"
     ]
    }
   ],
   "source": [
    "import numpy as np\n",
    "import pandas as pd\n",
    "import tensorflow as tf\n",
    "from tensorflow import feature_column\n",
    "from tensorflow.keras import layers\n",
    "\n",
    "from matplotlib import pyplot as plt\n",
    "\n",
    "# The following lines adjust the granularity of reporting.\n",
    "pd.options.display.max_rows = 10\n",
    "pd.options.display.float_format = \"{:.1f}\".format\n",
    "\n",
    "tf.keras.backend.set_floatx('float32')\n",
    "\n",
    "print(\"Imported the modules.\")"
   ]
  },
  {
   "cell_type": "code",
   "execution_count": 2,
   "metadata": {},
   "outputs": [],
   "source": [
    "# Load the dataset\n",
    "train_df = pd.read_csv(\"https://download.mlcc.google.com/mledu-datasets/california_housing_train.csv\")\n",
    "test_df = pd.read_csv(\"https://download.mlcc.google.com/mledu-datasets/california_housing_test.csv\")\n",
    "\n",
    "# Scale the labels\n",
    "scale_factor = 1000.0\n",
    "# Scale the training set's label.\n",
    "train_df[\"median_house_value\"] /= scale_factor \n",
    "\n",
    "# Scale the test set's label\n",
    "test_df[\"median_house_value\"] /= scale_factor\n",
    "\n",
    "# Shuffle the examples\n",
    "train_df = train_df.reindex(np.random.permutation(train_df.index))"
   ]
  },
  {
   "cell_type": "code",
   "execution_count": 3,
   "metadata": {},
   "outputs": [],
   "source": [
    "# Create an empty list that will eventually hold all feature columns.\n",
    "feature_columns = []\n",
    "\n",
    "# Create a numerical feature column to represent latitude.\n",
    "latitude = tf.feature_column.numeric_column(\"latitude\")\n",
    "feature_columns.append(latitude)\n",
    "\n",
    "# Create a numerical feature column to represent longitude.\n",
    "longitude = tf.feature_column.numeric_column(\"longitude\")\n",
    "feature_columns.append(longitude)\n",
    "\n",
    "# Convert the list of feature columns into a layer that will ultimately become\n",
    "# part of the model. Understanding layers is not important right now.\n",
    "fp_feature_layer = layers.DenseFeatures(feature_columns)"
   ]
  },
  {
   "cell_type": "code",
   "execution_count": 6,
   "metadata": {},
   "outputs": [
    {
     "name": "stdout",
     "output_type": "stream",
     "text": [
      "Defined the create_model, train_model, and plot_the_loss_curve functions.\n"
     ]
    }
   ],
   "source": [
    "#@title Define functions to create and train a model, and a plotting function\n",
    "def create_model(my_learning_rate, feature_layer):\n",
    "  \"\"\"Create and compile a simple linear regression model.\"\"\"\n",
    "  # Most simple tf.keras models are sequential.\n",
    "  model = tf.keras.models.Sequential()\n",
    "\n",
    "  # Add the layer containing the feature columns to the model.\n",
    "  model.add(feature_layer)\n",
    "\n",
    "  # Add one linear layer to the model to yield a simple linear regressor.\n",
    "  model.add(tf.keras.layers.Dense(units=1, input_shape=(1,)))\n",
    "\n",
    "  # Construct the layers into a model that TensorFlow can execute.\n",
    "  model.compile(optimizer=tf.keras.optimizers.RMSprop(lr=my_learning_rate),\n",
    "                loss=\"mean_squared_error\",\n",
    "                metrics=[tf.keras.metrics.RootMeanSquaredError()])\n",
    "\n",
    "  return model           \n",
    "\n",
    "\n",
    "def train_model(model, dataset, epochs, batch_size, label_name):\n",
    "  \"\"\"Feed a dataset into the model in order to train it.\"\"\"\n",
    "\n",
    "  features = {name:np.array(value) for name, value in dataset.items()}\n",
    "  label = np.array(features.pop(label_name))\n",
    "  history = model.fit(x=features, y=label, batch_size=batch_size,\n",
    "                      epochs=epochs, shuffle=True)\n",
    "\n",
    "  # The list of epochs is stored separately from the rest of history.\n",
    "  epochs = history.epoch\n",
    "  \n",
    "  # Isolate the mean absolute error for each epoch.\n",
    "  hist = pd.DataFrame(history.history)\n",
    "  rmse = hist[\"root_mean_squared_error\"]\n",
    "\n",
    "  return epochs, rmse   \n",
    "\n",
    "\n",
    "def plot_the_loss_curve(epochs, rmse):\n",
    "  \"\"\"Plot a curve of loss vs. epoch.\"\"\"\n",
    "\n",
    "  plt.figure()\n",
    "  plt.xlabel(\"Epoch\")\n",
    "  plt.ylabel(\"Root Mean Squared Error\")\n",
    "\n",
    "  plt.plot(epochs, rmse, label=\"Loss\")\n",
    "  plt.legend()\n",
    "  plt.ylim([rmse.min()*0.94, rmse.max()* 1.05])\n",
    "  plt.show()  \n",
    "\n",
    "print(\"Defined the create_model, train_model, and plot_the_loss_curve functions.\")"
   ]
  },
  {
   "cell_type": "code",
   "execution_count": 7,
   "metadata": {},
   "outputs": [
    {
     "name": "stdout",
     "output_type": "stream",
     "text": [
      "WARNING:tensorflow:Entity <bound method DenseFeatures.call of <tensorflow.python.feature_column.feature_column_v2.DenseFeatures object at 0x000001DEAD4BDE48>> could not be transformed and will be executed as-is. Please report this to the AutgoGraph team. When filing the bug, set the verbosity to 10 (on Linux, `export AUTOGRAPH_VERBOSITY=10`) and attach the full output. Cause: converting <bound method DenseFeatures.call of <tensorflow.python.feature_column.feature_column_v2.DenseFeatures object at 0x000001DEAD4BDE48>>: AttributeError: module 'gast' has no attribute 'Num'\n",
      "WARNING: Entity <bound method DenseFeatures.call of <tensorflow.python.feature_column.feature_column_v2.DenseFeatures object at 0x000001DEAD4BDE48>> could not be transformed and will be executed as-is. Please report this to the AutgoGraph team. When filing the bug, set the verbosity to 10 (on Linux, `export AUTOGRAPH_VERBOSITY=10`) and attach the full output. Cause: converting <bound method DenseFeatures.call of <tensorflow.python.feature_column.feature_column_v2.DenseFeatures object at 0x000001DEAD4BDE48>>: AttributeError: module 'gast' has no attribute 'Num'\n",
      "Epoch 1/30\n",
      "17000/17000 [==============================] - 0s 16us/sample - loss: 24485.0011 - root_mean_squared_error: 156.4768\n",
      "Epoch 2/30\n",
      "17000/17000 [==============================] - 0s 10us/sample - loss: 13572.4296 - root_mean_squared_error: 116.5008\n",
      "Epoch 3/30\n",
      "17000/17000 [==============================] - 0s 10us/sample - loss: 13531.8765 - root_mean_squared_error: 116.3266\n",
      "Epoch 4/30\n",
      "17000/17000 [==============================] - 0s 11us/sample - loss: 13459.5607 - root_mean_squared_error: 116.0154\n",
      "Epoch 5/30\n",
      "17000/17000 [==============================] - 0s 11us/sample - loss: 13413.2549 - root_mean_squared_error: 115.8156\n",
      "Epoch 6/30\n",
      "17000/17000 [==============================] - 0s 11us/sample - loss: 13362.1802 - root_mean_squared_error: 115.5949\n",
      "Epoch 7/30\n",
      "17000/17000 [==============================] - 0s 12us/sample - loss: 13333.4906 - root_mean_squared_error: 115.4707\n",
      "Epoch 8/30\n",
      "17000/17000 [==============================] - 0s 10us/sample - loss: 13282.5427 - root_mean_squared_error: 115.2499\n",
      "Epoch 9/30\n",
      "17000/17000 [==============================] - 0s 10us/sample - loss: 13248.3369 - root_mean_squared_error: 115.1014\n",
      "Epoch 10/30\n",
      "17000/17000 [==============================] - 0s 10us/sample - loss: 13222.6559 - root_mean_squared_error: 114.9898\n",
      "Epoch 11/30\n",
      "17000/17000 [==============================] - 0s 14us/sample - loss: 13189.7973 - root_mean_squared_error: 114.8469\n",
      "Epoch 12/30\n",
      "17000/17000 [==============================] - 0s 13us/sample - loss: 13165.7277 - root_mean_squared_error: 114.7420\n",
      "Epoch 13/30\n",
      "17000/17000 [==============================] - 0s 12us/sample - loss: 13131.9173 - root_mean_squared_error: 114.5946\n",
      "Epoch 14/30\n",
      "17000/17000 [==============================] - 0s 10us/sample - loss: 13102.2028 - root_mean_squared_error: 114.4649\n",
      "Epoch 15/30\n",
      "17000/17000 [==============================] - 0s 10us/sample - loss: 13082.6959 - root_mean_squared_error: 114.3796\n",
      "Epoch 16/30\n",
      "17000/17000 [==============================] - 0s 10us/sample - loss: 13056.7648 - root_mean_squared_error: 114.2662\n",
      "Epoch 17/30\n",
      "17000/17000 [==============================] - 0s 10us/sample - loss: 13038.4483 - root_mean_squared_error: 114.1860\n",
      "Epoch 18/30\n",
      "17000/17000 [==============================] - 0s 9us/sample - loss: 13004.4954 - root_mean_squared_error: 114.0372\n",
      "Epoch 19/30\n",
      "17000/17000 [==============================] - 0s 10us/sample - loss: 13008.8102 - root_mean_squared_error: 114.0562\n",
      "Epoch 20/30\n",
      "17000/17000 [==============================] - 0s 10us/sample - loss: 12970.1057 - root_mean_squared_error: 113.8864\n",
      "Epoch 21/30\n",
      "17000/17000 [==============================] - 0s 10us/sample - loss: 12962.1147 - root_mean_squared_error: 113.8513\n",
      "Epoch 22/30\n",
      "17000/17000 [==============================] - 0s 10us/sample - loss: 12933.4701 - root_mean_squared_error: 113.7254\n",
      "Epoch 23/30\n",
      "17000/17000 [==============================] - 0s 10us/sample - loss: 12920.9611 - root_mean_squared_error: 113.6704\n",
      "Epoch 24/30\n",
      "17000/17000 [==============================] - 0s 10us/sample - loss: 12921.7595 - root_mean_squared_error: 113.6739\n",
      "Epoch 25/30\n",
      "17000/17000 [==============================] - 0s 10us/sample - loss: 12903.6472 - root_mean_squared_error: 113.5942\n",
      "Epoch 26/30\n",
      "17000/17000 [==============================] - 0s 10us/sample - loss: 12907.1334 - root_mean_squared_error: 113.6095\n",
      "Epoch 27/30\n",
      "17000/17000 [==============================] - 0s 10us/sample - loss: 12885.7574 - root_mean_squared_error: 113.5154\n",
      "Epoch 28/30\n",
      "17000/17000 [==============================] - 0s 9us/sample - loss: 12871.9282 - root_mean_squared_error: 113.4545\n",
      "Epoch 29/30\n",
      "17000/17000 [==============================] - 0s 10us/sample - loss: 12863.1552 - root_mean_squared_error: 113.4159\n",
      "Epoch 30/30\n",
      "17000/17000 [==============================] - 0s 10us/sample - loss: 12859.2100 - root_mean_squared_error: 113.3985\n"
     ]
    },
    {
     "data": {
      "image/png": "[encoded data removed]",
      "text/plain": [
       "<Figure size 432x288 with 1 Axes>"
      ]
     },
     "metadata": {
      "needs_background": "light"
     },
     "output_type": "display_data"
    },
    {
     "name": "stdout",
     "output_type": "stream",
     "text": [
      "\n",
      ": Evaluate the new model against the test set:\n",
      "3000/3000 [==============================] - 0s 23us/sample - loss: 12223.4752 - root_mean_squared_error: 110.5598\n"
     ]
    },
    {
     "data": {
      "text/plain": [
       "[12223.475162760416, 110.55982]"
      ]
     },
     "execution_count": 7,
     "metadata": {},
     "output_type": "execute_result"
    }
   ],
   "source": [
    "# The following variables are the hyperparameters.\n",
    "learning_rate = 0.05\n",
    "epochs = 30\n",
    "batch_size = 100\n",
    "label_name = 'median_house_value'\n",
    "\n",
    "# Create and compile the model's topography.\n",
    "my_model = create_model(learning_rate, fp_feature_layer)\n",
    "\n",
    "# Train the model on the training set.\n",
    "epochs, rmse = train_model(my_model, train_df, epochs, batch_size, label_name)\n",
    "\n",
    "plot_the_loss_curve(epochs, rmse)\n",
    "\n",
    "print(\"\\n: Evaluate the new model against the test set:\")\n",
    "test_features = {name:np.array(value) for name, value in test_df.items()}\n",
    "test_label = np.array(test_features.pop(label_name))\n",
    "my_model.evaluate(x=test_features, y=test_label, batch_size=batch_size)"
   ]
  },
  {
   "cell_type": "code",
   "execution_count": 8,
   "metadata": {},
   "outputs": [],
   "source": [
    "resolution_in_degrees = 1.0 \n",
    "\n",
    "# Create a new empty list that will eventually hold the generated feature column.\n",
    "feature_columns = []\n",
    "\n",
    "# Create a bucket feature column for latitude.\n",
    "latitude_as_a_numeric_column = tf.feature_column.numeric_column(\"latitude\")\n",
    "latitude_boundaries = list(np.arange(int(min(train_df['latitude'])), \n",
    "                                     int(max(train_df['latitude'])), \n",
    "                                     resolution_in_degrees))\n",
    "latitude = tf.feature_column.bucketized_column(latitude_as_a_numeric_column, \n",
    "                                               latitude_boundaries)\n",
    "feature_columns.append(latitude)\n",
    "\n",
    "# Create a bucket feature column for longitude.\n",
    "longitude_as_a_numeric_column = tf.feature_column.numeric_column(\"longitude\")\n",
    "longitude_boundaries = list(np.arange(int(min(train_df['longitude'])), \n",
    "                                      int(max(train_df['longitude'])), \n",
    "                                      resolution_in_degrees))\n",
    "longitude = tf.feature_column.bucketized_column(longitude_as_a_numeric_column, \n",
    "                                                longitude_boundaries)\n",
    "feature_columns.append(longitude)\n",
    "\n",
    "# Convert the list of feature columns into a layer that will ultimately become\n",
    "# part of the model. Understanding layers is not important right now.\n",
    "buckets_feature_layer = layers.DenseFeatures(feature_columns)"
   ]
  },
  {
   "cell_type": "code",
   "execution_count": 9,
   "metadata": {},
   "outputs": [
    {
     "name": "stdout",
     "output_type": "stream",
     "text": [
      "WARNING:tensorflow:Entity <bound method DenseFeatures.call of <tensorflow.python.feature_column.feature_column_v2.DenseFeatures object at 0x000001DEAF51C828>> could not be transformed and will be executed as-is. Please report this to the AutgoGraph team. When filing the bug, set the verbosity to 10 (on Linux, `export AUTOGRAPH_VERBOSITY=10`) and attach the full output. Cause: converting <bound method DenseFeatures.call of <tensorflow.python.feature_column.feature_column_v2.DenseFeatures object at 0x000001DEAF51C828>>: AttributeError: module 'gast' has no attribute 'Num'\n",
      "WARNING: Entity <bound method DenseFeatures.call of <tensorflow.python.feature_column.feature_column_v2.DenseFeatures object at 0x000001DEAF51C828>> could not be transformed and will be executed as-is. Please report this to the AutgoGraph team. When filing the bug, set the verbosity to 10 (on Linux, `export AUTOGRAPH_VERBOSITY=10`) and attach the full output. Cause: converting <bound method DenseFeatures.call of <tensorflow.python.feature_column.feature_column_v2.DenseFeatures object at 0x000001DEAF51C828>>: AttributeError: module 'gast' has no attribute 'Num'\n",
      "Epoch 1/35\n",
      "17000/17000 [==============================] - 0s 25us/sample - loss: 52030.4184 - root_mean_squared_error: 228.1018\n",
      "Epoch 2/35\n",
      "17000/17000 [==============================] - 0s 14us/sample - loss: 44636.0813 - root_mean_squared_error: 211.2726\n",
      "Epoch 3/35\n",
      "17000/17000 [==============================] - 0s 12us/sample - loss: 38072.6438 - root_mean_squared_error: 195.1221\n",
      "Epoch 4/35\n",
      "17000/17000 [==============================] - 0s 10us/sample - loss: 32271.7981 - root_mean_squared_error: 179.6436\n",
      "Epoch 5/35\n",
      "17000/17000 [==============================] - 0s 10us/sample - loss: 27239.4899 - root_mean_squared_error: 165.0439\n",
      "Epoch 6/35\n",
      "17000/17000 [==============================] - 0s 10us/sample - loss: 22973.1149 - root_mean_squared_error: 151.5689\n",
      "Epoch 7/35\n",
      "17000/17000 [==============================] - 0s 10us/sample - loss: 19466.5219 - root_mean_squared_error: 139.5225\n",
      "Epoch 8/35\n",
      "17000/17000 [==============================] - 0s 10us/sample - loss: 16679.1474 - root_mean_squared_error: 129.1478\n",
      "Epoch 9/35\n",
      "17000/17000 [==============================] - 0s 10us/sample - loss: 14531.4103 - root_mean_squared_error: 120.5463\n",
      "Epoch 10/35\n",
      "17000/17000 [==============================] - 0s 10us/sample - loss: 12963.6975 - root_mean_squared_error: 113.8582\n",
      "Epoch 11/35\n",
      "17000/17000 [==============================] - 0s 10us/sample - loss: 11937.8654 - root_mean_squared_error: 109.2605\n",
      "Epoch 12/35\n",
      "17000/17000 [==============================] - 0s 11us/sample - loss: 11318.5018 - root_mean_squared_error: 106.3885\n",
      "Epoch 13/35\n",
      "17000/17000 [==============================] - 0s 11us/sample - loss: 10982.4734 - root_mean_squared_error: 104.7973\n",
      "Epoch 14/35\n",
      "17000/17000 [==============================] - 0s 10us/sample - loss: 10797.1399 - root_mean_squared_error: 103.9093\n",
      "Epoch 15/35\n",
      "17000/17000 [==============================] - 0s 11us/sample - loss: 10678.7848 - root_mean_squared_error: 103.3382\n",
      "Epoch 16/35\n",
      "17000/17000 [==============================] - 0s 11us/sample - loss: 10603.3404 - root_mean_squared_error: 102.9725\n",
      "Epoch 17/35\n",
      "17000/17000 [==============================] - 0s 10us/sample - loss: 10554.4066 - root_mean_squared_error: 102.7346\n",
      "Epoch 18/35\n",
      "17000/17000 [==============================] - 0s 12us/sample - loss: 10520.6426 - root_mean_squared_error: 102.5702\n",
      "Epoch 19/35\n",
      "17000/17000 [==============================] - 0s 10us/sample - loss: 10495.8839 - root_mean_squared_error: 102.4494\n",
      "Epoch 20/35\n",
      "17000/17000 [==============================] - 0s 14us/sample - loss: 10477.2918 - root_mean_squared_error: 102.3586\n",
      "Epoch 21/35\n",
      "17000/17000 [==============================] - 0s 13us/sample - loss: 10462.4248 - root_mean_squared_error: 102.2860\n",
      "Epoch 22/35\n",
      "17000/17000 [==============================] - 0s 12us/sample - loss: 10449.7881 - root_mean_squared_error: 102.2242\n",
      "Epoch 23/35\n",
      "17000/17000 [==============================] - 0s 12us/sample - loss: 10438.0893 - root_mean_squared_error: 102.1670\n",
      "Epoch 24/35\n",
      "17000/17000 [==============================] - 0s 13us/sample - loss: 10427.6185 - root_mean_squared_error: 102.1157\n",
      "Epoch 25/35\n",
      "17000/17000 [==============================] - 0s 13us/sample - loss: 10417.4373 - root_mean_squared_error: 102.0658\n",
      "Epoch 26/35\n",
      "17000/17000 [==============================] - 0s 12us/sample - loss: 10407.8860 - root_mean_squared_error: 102.0191\n",
      "Epoch 27/35\n",
      "17000/17000 [==============================] - 0s 10us/sample - loss: 10399.5257 - root_mean_squared_error: 101.9781\n",
      "Epoch 28/35\n",
      "17000/17000 [==============================] - 0s 10us/sample - loss: 10391.0897 - root_mean_squared_error: 101.9367\n",
      "Epoch 29/35\n",
      "17000/17000 [==============================] - 0s 12us/sample - loss: 10382.8386 - root_mean_squared_error: 101.8962\n",
      "Epoch 30/35\n",
      "17000/17000 [==============================] - 0s 15us/sample - loss: 10375.2645 - root_mean_squared_error: 101.8590\n",
      "Epoch 31/35\n",
      "17000/17000 [==============================] - 0s 14us/sample - loss: 10368.1133 - root_mean_squared_error: 101.8239\n",
      "Epoch 32/35\n",
      "17000/17000 [==============================] - 0s 10us/sample - loss: 10360.8161 - root_mean_squared_error: 101.7881\n",
      "Epoch 33/35\n",
      "17000/17000 [==============================] - 0s 10us/sample - loss: 10354.1279 - root_mean_squared_error: 101.7553\n",
      "Epoch 34/35\n",
      "17000/17000 [==============================] - 0s 10us/sample - loss: 10346.8245 - root_mean_squared_error: 101.7193\n",
      "Epoch 35/35\n",
      "17000/17000 [==============================] - 0s 11us/sample - loss: 10340.5125 - root_mean_squared_error: 101.6883\n"
     ]
    },
    {
     "data": {
      "image/png": "[encoded data removed]",
      "text/plain": [
       "<Figure size 432x288 with 1 Axes>"
      ]
     },
     "metadata": {
      "needs_background": "light"
     },
     "output_type": "display_data"
    },
    {
     "name": "stdout",
     "output_type": "stream",
     "text": [
      "\n",
      ": Evaluate the new model against the test set:\n",
      "3000/3000 [==============================] - 0s 29us/sample - loss: 10201.3538 - root_mean_squared_error: 101.0017\n"
     ]
    },
    {
     "data": {
      "text/plain": [
       "[10201.353824869791, 101.00174]"
      ]
     },
     "execution_count": 9,
     "metadata": {},
     "output_type": "execute_result"
    }
   ],
   "source": [
    "# The following variables are the hyperparameters.\n",
    "learning_rate = 0.04\n",
    "epochs = 35\n",
    "\n",
    "# Build the model, this time passing in the buckets_feature_layer.\n",
    "my_model = create_model(learning_rate, buckets_feature_layer)\n",
    "\n",
    "# Train the model on the training set.\n",
    "epochs, rmse = train_model(my_model, train_df, epochs, batch_size, label_name)\n",
    "\n",
    "plot_the_loss_curve(epochs, rmse)\n",
    "\n",
    "print(\"\\n: Evaluate the new model against the test set:\")\n",
    "my_model.evaluate(x=test_features, y=test_label, batch_size=batch_size)"
   ]
  },
  {
   "cell_type": "code",
   "execution_count": 10,
   "metadata": {},
   "outputs": [],
   "source": [
    "resolution_in_degrees = 1.0 \n",
    "\n",
    "# Create a new empty list that will eventually hold the generated feature column.\n",
    "feature_columns = []\n",
    "\n",
    "# Create a bucket feature column for latitude.\n",
    "latitude_as_a_numeric_column = tf.feature_column.numeric_column(\"latitude\")\n",
    "latitude_boundaries = list(np.arange(int(min(train_df['latitude'])), int(max(train_df['latitude'])), resolution_in_degrees))\n",
    "latitude = tf.feature_column.bucketized_column(latitude_as_a_numeric_column, latitude_boundaries)\n",
    "\n",
    "# Create a bucket feature column for longitude.\n",
    "longitude_as_a_numeric_column = tf.feature_column.numeric_column(\"longitude\")\n",
    "longitude_boundaries = list(np.arange(int(min(train_df['longitude'])), int(max(train_df['longitude'])), resolution_in_degrees))\n",
    "longitude = tf.feature_column.bucketized_column(longitude_as_a_numeric_column, longitude_boundaries)\n",
    "\n",
    "# Create a feature cross of latitude and longitude.\n",
    "latitude_x_longitude = tf.feature_column.crossed_column([latitude, longitude], hash_bucket_size=100)\n",
    "crossed_feature = tf.feature_column.indicator_column(latitude_x_longitude)\n",
    "feature_columns.append(crossed_feature)\n",
    "\n",
    "# Convert the list of feature columns into a layer that will later be fed into\n",
    "# the model. \n",
    "feature_cross_feature_layer = layers.DenseFeatures(feature_columns)"
   ]
  },
  {
   "cell_type": "code",
   "execution_count": 11,
   "metadata": {},
   "outputs": [
    {
     "name": "stdout",
     "output_type": "stream",
     "text": [
      "WARNING:tensorflow:Entity <bound method DenseFeatures.call of <tensorflow.python.feature_column.feature_column_v2.DenseFeatures object at 0x000001DEAF9624E0>> could not be transformed and will be executed as-is. Please report this to the AutgoGraph team. When filing the bug, set the verbosity to 10 (on Linux, `export AUTOGRAPH_VERBOSITY=10`) and attach the full output. Cause: converting <bound method DenseFeatures.call of <tensorflow.python.feature_column.feature_column_v2.DenseFeatures object at 0x000001DEAF9624E0>>: AttributeError: module 'gast' has no attribute 'Num'\n",
      "WARNING: Entity <bound method DenseFeatures.call of <tensorflow.python.feature_column.feature_column_v2.DenseFeatures object at 0x000001DEAF9624E0>> could not be transformed and will be executed as-is. Please report this to the AutgoGraph team. When filing the bug, set the verbosity to 10 (on Linux, `export AUTOGRAPH_VERBOSITY=10`) and attach the full output. Cause: converting <bound method DenseFeatures.call of <tensorflow.python.feature_column.feature_column_v2.DenseFeatures object at 0x000001DEAF9624E0>>: AttributeError: module 'gast' has no attribute 'Num'\n",
      "WARNING:tensorflow:From C:\\Users\\Nano\\Anaconda3\\lib\\site-packages\\tensorflow\\python\\feature_column\\feature_column_v2.py:4207: IndicatorColumn._variable_shape (from tensorflow.python.feature_column.feature_column_v2) is deprecated and will be removed in a future version.\n",
      "Instructions for updating:\n",
      "The old _FeatureColumn APIs are being deprecated. Please use the new FeatureColumn APIs instead.\n",
      "WARNING:tensorflow:From C:\\Users\\Nano\\Anaconda3\\lib\\site-packages\\tensorflow\\python\\feature_column\\feature_column_v2.py:4262: CrossedColumn._num_buckets (from tensorflow.python.feature_column.feature_column_v2) is deprecated and will be removed in a future version.\n",
      "Instructions for updating:\n",
      "The old _FeatureColumn APIs are being deprecated. Please use the new FeatureColumn APIs instead.\n",
      "Epoch 1/35\n",
      "17000/17000 [==============================] - 0s 23us/sample - loss: 53563.9534 - root_mean_squared_error: 231.4389\n",
      "Epoch 2/35\n",
      "17000/17000 [==============================] - 0s 15us/sample - loss: 48511.4364 - root_mean_squared_error: 220.2531\n",
      "Epoch 3/35\n",
      "17000/17000 [==============================] - 0s 14us/sample - loss: 43815.2054 - root_mean_squared_error: 209.3208\n",
      "Epoch 4/35\n",
      "17000/17000 [==============================] - 0s 14us/sample - loss: 39455.4013 - root_mean_squared_error: 198.6338\n",
      "Epoch 5/35\n",
      "17000/17000 [==============================] - 0s 14us/sample - loss: 35447.3140 - root_mean_squared_error: 188.2746\n",
      "Epoch 6/35\n",
      "17000/17000 [==============================] - 0s 14us/sample - loss: 31755.8038 - root_mean_squared_error: 178.2016\n",
      "Epoch 7/35\n",
      "17000/17000 [==============================] - 0s 13us/sample - loss: 28410.8155 - root_mean_squared_error: 168.5551\n",
      "Epoch 8/35\n",
      "17000/17000 [==============================] - 0s 14us/sample - loss: 25378.1066 - root_mean_squared_error: 159.3051\n",
      "Epoch 9/35\n",
      "17000/17000 [==============================] - 0s 13us/sample - loss: 22666.6526 - root_mean_squared_error: 150.5545\n",
      "Epoch 10/35\n",
      "17000/17000 [==============================] - 0s 14us/sample - loss: 20251.8058 - root_mean_squared_error: 142.3088\n",
      "Epoch 11/35\n",
      "17000/17000 [==============================] - 0s 14us/sample - loss: 18158.8914 - root_mean_squared_error: 134.7549\n",
      "Epoch 12/35\n",
      "17000/17000 [==============================] - 0s 17us/sample - loss: 16346.1496 - root_mean_squared_error: 127.8520\n",
      "Epoch 13/35\n",
      "17000/17000 [==============================] - 0s 15us/sample - loss: 14801.8227 - root_mean_squared_error: 121.6627\n",
      "Epoch 14/35\n",
      "17000/17000 [==============================] - 0s 16us/sample - loss: 13506.8258 - root_mean_squared_error: 116.2189\n",
      "Epoch 15/35\n",
      "17000/17000 [==============================] - 0s 21us/sample - loss: 12463.1259 - root_mean_squared_error: 111.6384\n",
      "Epoch 16/35\n",
      "17000/17000 [==============================] - 0s 17us/sample - loss: 11638.5170 - root_mean_squared_error: 107.8820\n",
      "Epoch 17/35\n",
      "17000/17000 [==============================] - 0s 13us/sample - loss: 11036.2001 - root_mean_squared_error: 105.0533\n",
      "Epoch 18/35\n",
      "17000/17000 [==============================] - 0s 14us/sample - loss: 10603.5306 - root_mean_squared_error: 102.9734\n",
      "Epoch 19/35\n",
      "17000/17000 [==============================] - 0s 14us/sample - loss: 10323.9466 - root_mean_squared_error: 101.6068\n",
      "Epoch 20/35\n",
      "17000/17000 [==============================] - 0s 14us/sample - loss: 10135.0573 - root_mean_squared_error: 100.6730\n",
      "Epoch 21/35\n",
      "17000/17000 [==============================] - 0s 15us/sample - loss: 10004.1532 - root_mean_squared_error: 100.0208\n",
      "Epoch 22/35\n",
      "17000/17000 [==============================] - 0s 14us/sample - loss: 9906.2576 - root_mean_squared_error: 99.5302\n",
      "Epoch 23/35\n",
      "17000/17000 [==============================] - 0s 15us/sample - loss: 9831.7789 - root_mean_squared_error: 99.1553\n",
      "Epoch 24/35\n",
      "17000/17000 [==============================] - 0s 15us/sample - loss: 9775.5127 - root_mean_squared_error: 98.8712\n",
      "Epoch 25/35\n",
      "17000/17000 [==============================] - 0s 18us/sample - loss: 9733.3472 - root_mean_squared_error: 98.6577\n",
      "Epoch 26/35\n",
      "17000/17000 [==============================] - 0s 13us/sample - loss: 9702.6728 - root_mean_squared_error: 98.5022\n",
      "Epoch 27/35\n",
      "17000/17000 [==============================] - 0s 14us/sample - loss: 9680.2075 - root_mean_squared_error: 98.3880\n",
      "Epoch 28/35\n",
      "17000/17000 [==============================] - 0s 13us/sample - loss: 9662.8936 - root_mean_squared_error: 98.3000\n",
      "Epoch 29/35\n",
      "17000/17000 [==============================] - 0s 13us/sample - loss: 9649.7758 - root_mean_squared_error: 98.2333\n",
      "Epoch 30/35\n",
      "17000/17000 [==============================] - 0s 14us/sample - loss: 9640.0683 - root_mean_squared_error: 98.1838\n",
      "Epoch 31/35\n",
      "17000/17000 [==============================] - 0s 14us/sample - loss: 9633.1051 - root_mean_squared_error: 98.1484\n",
      "Epoch 32/35\n",
      "17000/17000 [==============================] - 0s 14us/sample - loss: 9627.6449 - root_mean_squared_error: 98.1206\n",
      "Epoch 33/35\n",
      "17000/17000 [==============================] - 0s 13us/sample - loss: 9623.2704 - root_mean_squared_error: 98.0983\n",
      "Epoch 34/35\n",
      "17000/17000 [==============================] - 0s 14us/sample - loss: 9620.1872 - root_mean_squared_error: 98.0826\n",
      "Epoch 35/35\n",
      "17000/17000 [==============================] - 0s 13us/sample - loss: 9617.5574 - root_mean_squared_error: 98.0691\n"
     ]
    },
    {
     "data": {
      "image/png": "[encoded data removed]",
      "text/plain": [
       "<Figure size 432x288 with 1 Axes>"
      ]
     },
     "metadata": {
      "needs_background": "light"
     },
     "output_type": "display_data"
    },
    {
     "name": "stdout",
     "output_type": "stream",
     "text": [
      "\n",
      ": Evaluate the new model against the test set:\n",
      "3000/3000 [==============================] - 0s 39us/sample - loss: 9520.6331 - root_mean_squared_error: 97.5737\n"
     ]
    },
    {
     "data": {
      "text/plain": [
       "[9520.63310546875, 97.57374]"
      ]
     },
     "execution_count": 11,
     "metadata": {},
     "output_type": "execute_result"
    }
   ],
   "source": [
    "# The following variables are the hyperparameters.\n",
    "learning_rate = 0.04\n",
    "epochs = 35\n",
    "\n",
    "# Build the model, this time passing in the feature_cross_feature_layer: \n",
    "my_model = create_model(learning_rate, feature_cross_feature_layer)\n",
    "\n",
    "# Train the model on the training set.\n",
    "epochs, rmse = train_model(my_model, train_df, epochs, batch_size, label_name)\n",
    "\n",
    "plot_the_loss_curve(epochs, rmse)\n",
    "\n",
    "print(\"\\n: Evaluate the new model against the test set:\")\n",
    "my_model.evaluate(x=test_features, y=test_label, batch_size=batch_size)"
   ]
  },
  {
   "cell_type": "code",
   "execution_count": null,
   "metadata": {},
   "outputs": [],
   "source": []
  }
 ],
 "metadata": {
  "kernelspec": {
   "display_name": "Python 3",
   "language": "python",
   "name": "python3"
  },
  "language_info": {
   "codemirror_mode": {
    "name": "ipython",
    "version": 3
   },
   "file_extension": ".py",
   "mimetype": "text/x-python",
   "name": "python",
   "nbconvert_exporter": "python",
   "pygments_lexer": "ipython3",
   "version": "3.7.3"
  }
 },
 "nbformat": 4,
 "nbformat_minor": 2
}
