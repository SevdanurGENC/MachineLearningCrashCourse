{
 "cells": [
  {
   "cell_type": "code",
   "execution_count": 3,
   "metadata": {},
   "outputs": [],
   "source": [
    "#### Cat vs. Dog Image Classification\n",
    "#### Feature Extraction and Fine-Tuning\n",
    "#### Feature Extraction Using a Pretrained Model\n",
    "import os\n",
    "\n",
    "from tensorflow.keras import layers\n",
    "from tensorflow.keras import Model"
   ]
  },
  {
   "cell_type": "code",
   "execution_count": 4,
   "metadata": {},
   "outputs": [],
   "source": [
    "from tensorflow.keras.applications.inception_v3 import InceptionV3\n",
    "\n",
    "local_weights_file = 'tmp/inception_v3_weights_tf_dim_ordering_tf_kernels_notop.h5'\n",
    "pre_trained_model = InceptionV3(\n",
    "    input_shape=(150, 150, 3), include_top=False, weights=None)\n",
    "pre_trained_model.load_weights(local_weights_file)"
   ]
  },
  {
   "cell_type": "code",
   "execution_count": 5,
   "metadata": {},
   "outputs": [],
   "source": [
    "for layer in pre_trained_model.layers:\n",
    "  layer.trainable = False"
   ]
  },
  {
   "cell_type": "code",
   "execution_count": 6,
   "metadata": {},
   "outputs": [
    {
     "name": "stdout",
     "output_type": "stream",
     "text": [
      "last layer output shape: (None, 7, 7, 768)\n"
     ]
    }
   ],
   "source": [
    "last_layer = pre_trained_model.get_layer('mixed7')\n",
    "print('last layer output shape:', last_layer.output_shape)\n",
    "last_output = last_layer.output"
   ]
  },
  {
   "cell_type": "code",
   "execution_count": 7,
   "metadata": {},
   "outputs": [],
   "source": [
    "from tensorflow.keras.optimizers import RMSprop\n",
    "\n",
    "# Flatten the output layer to 1 dimension\n",
    "x = layers.Flatten()(last_output)\n",
    "# Add a fully connected layer with 1,024 hidden units and ReLU activation\n",
    "x = layers.Dense(1024, activation='relu')(x)\n",
    "# Add a dropout rate of 0.2\n",
    "x = layers.Dropout(0.2)(x)\n",
    "# Add a final sigmoid layer for classification\n",
    "x = layers.Dense(1, activation='sigmoid')(x)\n",
    "\n",
    "# Configure and compile the model\n",
    "model = Model(pre_trained_model.input, x)\n",
    "model.compile(loss='binary_crossentropy',\n",
    "              optimizer=RMSprop(lr=0.0001),\n",
    "              metrics=['acc'])"
   ]
  },
  {
   "cell_type": "code",
   "execution_count": 9,
   "metadata": {},
   "outputs": [
    {
     "name": "stdout",
     "output_type": "stream",
     "text": [
      "Found 2000 images belonging to 2 classes.\n",
      "Found 1000 images belonging to 2 classes.\n"
     ]
    }
   ],
   "source": [
    "import os\n",
    "import zipfile\n",
    "\n",
    "from tensorflow.keras.preprocessing.image import ImageDataGenerator\n",
    "\n",
    "local_zip = 'tmp/cats_and_dogs_filtered.zip'\n",
    "zip_ref = zipfile.ZipFile(local_zip, 'r')\n",
    "zip_ref.extractall('tmp')\n",
    "zip_ref.close()\n",
    "\n",
    "# Define our example directories and files\n",
    "base_dir = 'tmp/cats_and_dogs_filtered'\n",
    "train_dir = os.path.join(base_dir, 'train')\n",
    "validation_dir = os.path.join(base_dir, 'validation')\n",
    "\n",
    "# Directory with our training cat pictures\n",
    "train_cats_dir = os.path.join(train_dir, 'cats')\n",
    "\n",
    "# Directory with our training dog pictures\n",
    "train_dogs_dir = os.path.join(train_dir, 'dogs')\n",
    "\n",
    "# Directory with our validation cat pictures\n",
    "validation_cats_dir = os.path.join(validation_dir, 'cats')\n",
    "\n",
    "# Directory with our validation dog pictures\n",
    "validation_dogs_dir = os.path.join(validation_dir, 'dogs')\n",
    "\n",
    "train_cat_fnames = os.listdir(train_cats_dir)\n",
    "train_dog_fnames = os.listdir(train_dogs_dir)\n",
    "\n",
    "# Add our data-augmentation parameters to ImageDataGenerator\n",
    "train_datagen = ImageDataGenerator(\n",
    "    rescale=1./255,\n",
    "    rotation_range=40,\n",
    "    width_shift_range=0.2,\n",
    "    height_shift_range=0.2,\n",
    "    shear_range=0.2,\n",
    "    zoom_range=0.2,\n",
    "    horizontal_flip=True)\n",
    "\n",
    "# Note that the validation data should not be augmented!\n",
    "val_datagen = ImageDataGenerator(rescale=1./255)\n",
    "\n",
    "train_generator = train_datagen.flow_from_directory(\n",
    "        train_dir, # This is the source directory for training images\n",
    "        target_size=(150, 150),  # All images will be resized to 150x150\n",
    "        batch_size=20,\n",
    "        # Since we use binary_crossentropy loss, we need binary labels\n",
    "        class_mode='binary')\n",
    "\n",
    "# Flow validation images in batches of 20 using val_datagen generator\n",
    "validation_generator = val_datagen.flow_from_directory(\n",
    "        validation_dir,\n",
    "        target_size=(150, 150),\n",
    "        batch_size=20,\n",
    "        class_mode='binary')"
   ]
  },
  {
   "cell_type": "code",
   "execution_count": 10,
   "metadata": {},
   "outputs": [
    {
     "name": "stdout",
     "output_type": "stream",
     "text": [
      "WARNING:tensorflow:From <ipython-input-10-223274cfaaff>:7: Model.fit_generator (from tensorflow.python.keras.engine.training) is deprecated and will be removed in a future version.\n",
      "Instructions for updating:\n",
      "Please use Model.fit, which supports generators.\n",
      "Epoch 1/2\n",
      "100/100 - 118s - loss: 0.3316 - acc: 0.8740 - val_loss: 0.1003 - val_acc: 0.9620\n",
      "Epoch 2/2\n",
      "100/100 - 101s - loss: 0.1896 - acc: 0.9260 - val_loss: 0.1299 - val_acc: 0.9570\n"
     ]
    }
   ],
   "source": [
    "history = model.fit_generator(\n",
    "      train_generator,\n",
    "      steps_per_epoch=100,\n",
    "      epochs=2,\n",
    "      validation_data=validation_generator,\n",
    "      validation_steps=50,\n",
    "      verbose=2)"
   ]
  },
  {
   "cell_type": "code",
   "execution_count": null,
   "metadata": {},
   "outputs": [],
   "source": [
    "#### Further Improving Accuracy with Fine-Tuning\n",
    "\n",
    "from tensorflow.keras.optimizers import SGD\n",
    "\n",
    "unfreeze = False\n",
    "\n",
    "# Unfreeze all models after \"mixed6\"\n",
    "for layer in pre_trained_model.layers:\n",
    "  if unfreeze:\n",
    "    layer.trainable = True\n",
    "  if layer.name == 'mixed6':\n",
    "    unfreeze = True\n",
    "\n",
    "# As an optimizer, here we will use SGD \n",
    "# with a very low learning rate (0.00001)\n",
    "model.compile(loss='binary_crossentropy',\n",
    "              optimizer=SGD(\n",
    "                  lr=0.00001, \n",
    "                  momentum=0.9),\n",
    "              metrics=['acc'])"
   ]
  },
  {
   "cell_type": "code",
   "execution_count": 13,
   "metadata": {},
   "outputs": [
    {
     "name": "stdout",
     "output_type": "stream",
     "text": [
      "Epoch 1/50\n",
      "100/100 - 105s - loss: 0.2362 - acc: 0.8985 - val_loss: 0.1295 - val_acc: 0.9440\n",
      "Epoch 2/50\n",
      "100/100 - 104s - loss: 0.2056 - acc: 0.9170 - val_loss: 0.1358 - val_acc: 0.9460\n",
      "Epoch 3/50\n",
      "100/100 - 103s - loss: 0.2279 - acc: 0.9070 - val_loss: 0.1477 - val_acc: 0.9380\n",
      "Epoch 4/50\n",
      "100/100 - 91s - loss: 0.2088 - acc: 0.9105 - val_loss: 0.1463 - val_acc: 0.9410\n",
      "Epoch 5/50\n",
      "100/100 - 93s - loss: 0.2275 - acc: 0.9090 - val_loss: 0.1360 - val_acc: 0.9480\n",
      "Epoch 6/50\n",
      "100/100 - 79s - loss: 0.2217 - acc: 0.9050 - val_loss: 0.1464 - val_acc: 0.9400\n",
      "Epoch 7/50\n",
      "100/100 - 82s - loss: 0.2131 - acc: 0.9125 - val_loss: 0.1432 - val_acc: 0.9410\n",
      "Epoch 8/50\n",
      "100/100 - 77s - loss: 0.2004 - acc: 0.9210 - val_loss: 0.1391 - val_acc: 0.9450\n",
      "Epoch 9/50\n",
      "100/100 - 76s - loss: 0.2306 - acc: 0.9080 - val_loss: 0.1416 - val_acc: 0.9430\n",
      "Epoch 10/50\n",
      "100/100 - 75s - loss: 0.2285 - acc: 0.9050 - val_loss: 0.1416 - val_acc: 0.9390\n",
      "Epoch 11/50\n",
      "100/100 - 75s - loss: 0.2138 - acc: 0.9205 - val_loss: 0.1211 - val_acc: 0.9510\n",
      "Epoch 12/50\n",
      "100/100 - 75s - loss: 0.2155 - acc: 0.9095 - val_loss: 0.1452 - val_acc: 0.9380\n",
      "Epoch 13/50\n",
      "100/100 - 74s - loss: 0.2065 - acc: 0.9210 - val_loss: 0.1311 - val_acc: 0.9460\n",
      "Epoch 14/50\n",
      "100/100 - 75s - loss: 0.2181 - acc: 0.9050 - val_loss: 0.1388 - val_acc: 0.9440\n",
      "Epoch 15/50\n",
      "100/100 - 75s - loss: 0.1906 - acc: 0.9240 - val_loss: 0.1362 - val_acc: 0.9430\n",
      "Epoch 16/50\n",
      "100/100 - 76s - loss: 0.2116 - acc: 0.9095 - val_loss: 0.1363 - val_acc: 0.9460\n",
      "Epoch 17/50\n",
      "100/100 - 75s - loss: 0.2138 - acc: 0.9130 - val_loss: 0.1224 - val_acc: 0.9530\n",
      "Epoch 18/50\n",
      "100/100 - 75s - loss: 0.2151 - acc: 0.9135 - val_loss: 0.1289 - val_acc: 0.9440\n",
      "Epoch 19/50\n",
      "100/100 - 75s - loss: 0.2083 - acc: 0.9175 - val_loss: 0.1447 - val_acc: 0.9420\n",
      "Epoch 20/50\n",
      "100/100 - 75s - loss: 0.2027 - acc: 0.9200 - val_loss: 0.1196 - val_acc: 0.9480\n",
      "Epoch 21/50\n",
      "100/100 - 75s - loss: 0.2115 - acc: 0.9050 - val_loss: 0.1343 - val_acc: 0.9450\n",
      "Epoch 22/50\n",
      "100/100 - 75s - loss: 0.2074 - acc: 0.9185 - val_loss: 0.1296 - val_acc: 0.9490\n",
      "Epoch 23/50\n",
      "100/100 - 76s - loss: 0.2082 - acc: 0.9145 - val_loss: 0.1143 - val_acc: 0.9550\n",
      "Epoch 24/50\n",
      "100/100 - 75s - loss: 0.2011 - acc: 0.9160 - val_loss: 0.1257 - val_acc: 0.9560\n",
      "Epoch 25/50\n",
      "100/100 - 75s - loss: 0.1880 - acc: 0.9275 - val_loss: 0.1383 - val_acc: 0.9390\n",
      "Epoch 26/50\n",
      "100/100 - 75s - loss: 0.2137 - acc: 0.9060 - val_loss: 0.1281 - val_acc: 0.9520\n",
      "Epoch 27/50\n",
      "100/100 - 75s - loss: 0.1871 - acc: 0.9280 - val_loss: 0.1300 - val_acc: 0.9440\n",
      "Epoch 28/50\n",
      "100/100 - 75s - loss: 0.2081 - acc: 0.9150 - val_loss: 0.1192 - val_acc: 0.9520\n",
      "Epoch 29/50\n",
      "100/100 - 75s - loss: 0.2004 - acc: 0.9215 - val_loss: 0.1170 - val_acc: 0.9560\n",
      "Epoch 30/50\n",
      "100/100 - 76s - loss: 0.1961 - acc: 0.9245 - val_loss: 0.1143 - val_acc: 0.9540\n",
      "Epoch 31/50\n",
      "100/100 - 76s - loss: 0.1859 - acc: 0.9210 - val_loss: 0.1318 - val_acc: 0.9450\n",
      "Epoch 32/50\n",
      "100/100 - 75s - loss: 0.2136 - acc: 0.9140 - val_loss: 0.1174 - val_acc: 0.9500\n",
      "Epoch 33/50\n",
      "100/100 - 85s - loss: 0.1949 - acc: 0.9150 - val_loss: 0.1155 - val_acc: 0.9550\n",
      "Epoch 34/50\n",
      "100/100 - 87s - loss: 0.2011 - acc: 0.9140 - val_loss: 0.1277 - val_acc: 0.9450\n",
      "Epoch 35/50\n",
      "100/100 - 77s - loss: 0.1944 - acc: 0.9200 - val_loss: 0.1233 - val_acc: 0.9470\n",
      "Epoch 36/50\n",
      "100/100 - 75s - loss: 0.1882 - acc: 0.9315 - val_loss: 0.1260 - val_acc: 0.9510\n",
      "Epoch 37/50\n",
      "100/100 - 75s - loss: 0.1997 - acc: 0.9180 - val_loss: 0.1185 - val_acc: 0.9530\n",
      "Epoch 38/50\n",
      "100/100 - 75s - loss: 0.1885 - acc: 0.9250 - val_loss: 0.1048 - val_acc: 0.9530\n",
      "Epoch 39/50\n",
      "100/100 - 75s - loss: 0.1930 - acc: 0.9230 - val_loss: 0.1221 - val_acc: 0.9500\n",
      "Epoch 40/50\n",
      "100/100 - 75s - loss: 0.1921 - acc: 0.9260 - val_loss: 0.1230 - val_acc: 0.9460\n",
      "Epoch 41/50\n",
      "100/100 - 74s - loss: 0.1900 - acc: 0.9275 - val_loss: 0.1222 - val_acc: 0.9500\n",
      "Epoch 42/50\n",
      "100/100 - 75s - loss: 0.1891 - acc: 0.9270 - val_loss: 0.1179 - val_acc: 0.9500\n",
      "Epoch 43/50\n",
      "100/100 - 76s - loss: 0.2002 - acc: 0.9190 - val_loss: 0.1198 - val_acc: 0.9480\n",
      "Epoch 44/50\n",
      "100/100 - 75s - loss: 0.1814 - acc: 0.9250 - val_loss: 0.1201 - val_acc: 0.9510\n",
      "Epoch 45/50\n",
      "100/100 - 75s - loss: 0.1908 - acc: 0.9225 - val_loss: 0.1173 - val_acc: 0.9520\n",
      "Epoch 46/50\n",
      "100/100 - 75s - loss: 0.1819 - acc: 0.9255 - val_loss: 0.1134 - val_acc: 0.9530\n",
      "Epoch 47/50\n",
      "100/100 - 76s - loss: 0.1853 - acc: 0.9215 - val_loss: 0.1157 - val_acc: 0.9520\n",
      "Epoch 48/50\n",
      "100/100 - 85s - loss: 0.1968 - acc: 0.9205 - val_loss: 0.1160 - val_acc: 0.9500\n",
      "Epoch 49/50\n",
      "100/100 - 75s - loss: 0.1847 - acc: 0.9260 - val_loss: 0.1150 - val_acc: 0.9540\n",
      "Epoch 50/50\n",
      "100/100 - 75s - loss: 0.1891 - acc: 0.9255 - val_loss: 0.1156 - val_acc: 0.9520\n"
     ]
    }
   ],
   "source": [
    "history = model.fit_generator(\n",
    "      train_generator,\n",
    "      steps_per_epoch=100,\n",
    "      epochs=50,\n",
    "      validation_data=validation_generator,\n",
    "      validation_steps=50,\n",
    "      verbose=2)"
   ]
  },
  {
   "cell_type": "code",
   "execution_count": 14,
   "metadata": {},
   "outputs": [
    {
     "data": {
      "text/plain": [
       "Text(0.5, 1.0, 'Training and validation loss')"
      ]
     },
     "execution_count": 14,
     "metadata": {},
     "output_type": "execute_result"
    },
    {
     "data": {
      "image/png": "[encoded data removed]",
      "text/plain": [
       "<Figure size 432x288 with 1 Axes>"
      ]
     },
     "metadata": {
      "needs_background": "light"
     },
     "output_type": "display_data"
    },
    {
     "data": {
      "image/png": "[encoded data removed]",
      "text/plain": [
       "<Figure size 432x288 with 1 Axes>"
      ]
     },
     "metadata": {
      "needs_background": "light"
     },
     "output_type": "display_data"
    }
   ],
   "source": [
    "%matplotlib inline\n",
    "\n",
    "import matplotlib.pyplot as plt\n",
    "import matplotlib.image as mpimg\n",
    "\n",
    "# Retrieve a list of accuracy results on training and validation data\n",
    "# sets for each training epoch\n",
    "acc = history.history['acc']\n",
    "val_acc = history.history['val_acc']\n",
    "\n",
    "# Retrieve a list of list results on training and validation data\n",
    "# sets for each training epoch\n",
    "loss = history.history['loss']\n",
    "val_loss = history.history['val_loss']\n",
    "\n",
    "# Get number of epochs\n",
    "epochs = range(len(acc))\n",
    "\n",
    "# Plot training and validation accuracy per epoch\n",
    "plt.plot(epochs, acc)\n",
    "plt.plot(epochs, val_acc)\n",
    "plt.title('Training and validation accuracy')\n",
    "\n",
    "plt.figure()\n",
    "\n",
    "# Plot training and validation loss per epoch\n",
    "plt.plot(epochs, loss)\n",
    "plt.plot(epochs, val_loss)\n",
    "plt.title('Training and validation loss')"
   ]
  },
  {
   "cell_type": "code",
   "execution_count": null,
   "metadata": {},
   "outputs": [],
   "source": [
    "#### Clean Up\n",
    "import os, signal\n",
    "os.kill(os.getpid(), signal.SIGKILL)"
   ]
  },
  {
   "cell_type": "code",
   "execution_count": null,
   "metadata": {},
   "outputs": [],
   "source": []
  }
 ],
 "metadata": {
  "kernelspec": {
   "display_name": "Python 3",
   "language": "python",
   "name": "python3"
  },
  "language_info": {
   "codemirror_mode": {
    "name": "ipython",
    "version": 3
   },
   "file_extension": ".py",
   "mimetype": "text/x-python",
   "name": "python",
   "nbconvert_exporter": "python",
   "pygments_lexer": "ipython3",
   "version": "3.7.3"
  }
 },
 "nbformat": 4,
 "nbformat_minor": 2
}
