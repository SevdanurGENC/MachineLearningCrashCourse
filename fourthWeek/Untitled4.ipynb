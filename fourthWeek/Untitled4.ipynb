{
 "cells": [
  {
   "cell_type": "code",
   "execution_count": 6,
   "metadata": {},
   "outputs": [
    {
     "name": "stdout",
     "output_type": "stream",
     "text": [
      "Requirement already satisfied: tf-nightly in c:\\users\\nano\\anaconda3\\lib\\site-packages (2.2.0.dev20200501)\n",
      "Requirement already satisfied: grpcio>=1.8.6 in c:\\users\\nano\\anaconda3\\lib\\site-packages (from tf-nightly) (1.16.1)\n",
      "Requirement already satisfied: opt-einsum>=2.3.2 in c:\\users\\nano\\anaconda3\\lib\\site-packages (from tf-nightly) (3.2.1)\n",
      "Requirement already satisfied: google-pasta>=0.1.8 in c:\\users\\nano\\anaconda3\\lib\\site-packages (from tf-nightly) (0.2.0)\n",
      "Requirement already satisfied: protobuf>=3.9.2 in c:\\users\\nano\\anaconda3\\lib\\site-packages (from tf-nightly) (3.11.3)\n",
      "Requirement already satisfied: wheel>=0.26; python_version >= \"3\" in c:\\users\\nano\\anaconda3\\lib\\site-packages (from tf-nightly) (0.33.1)\n",
      "Requirement already satisfied: keras-preprocessing>=1.1.0 in c:\\users\\nano\\anaconda3\\lib\\site-packages (from tf-nightly) (1.1.0)\n",
      "Requirement already satisfied: h5py<2.11.0,>=2.10.0 in c:\\users\\nano\\anaconda3\\lib\\site-packages (from tf-nightly) (2.10.0)\n",
      "Requirement already satisfied: tf-estimator-nightly in c:\\users\\nano\\anaconda3\\lib\\site-packages (from tf-nightly) (2.3.0.dev2020050101)\n",
      "Requirement already satisfied: numpy<2.0,>=1.16.0 in c:\\users\\nano\\anaconda3\\lib\\site-packages (from tf-nightly) (1.16.2)\n",
      "Requirement already satisfied: absl-py>=0.7.0 in c:\\users\\nano\\anaconda3\\lib\\site-packages (from tf-nightly) (0.9.0)\n",
      "Requirement already satisfied: termcolor>=1.1.0 in c:\\users\\nano\\anaconda3\\lib\\site-packages (from tf-nightly) (1.1.0)\n",
      "Requirement already satisfied: gast==0.3.3 in c:\\users\\nano\\anaconda3\\lib\\site-packages (from tf-nightly) (0.3.3)\n",
      "Requirement already satisfied: six>=1.12.0 in c:\\users\\nano\\anaconda3\\lib\\site-packages (from tf-nightly) (1.12.0)\n",
      "Requirement already satisfied: astunparse==1.6.3 in c:\\users\\nano\\anaconda3\\lib\\site-packages (from tf-nightly) (1.6.3)\n",
      "Requirement already satisfied: scipy==1.4.1; python_version >= \"3\" in c:\\users\\nano\\anaconda3\\lib\\site-packages (from tf-nightly) (1.4.1)\n",
      "Requirement already satisfied: tb-nightly<2.4.0a0,>=2.3.0a0 in c:\\users\\nano\\anaconda3\\lib\\site-packages (from tf-nightly) (2.3.0a20200501)\n",
      "Requirement already satisfied: wrapt>=1.11.1 in c:\\users\\nano\\anaconda3\\lib\\site-packages (from tf-nightly) (1.11.1)\n",
      "Requirement already satisfied: setuptools in c:\\users\\nano\\anaconda3\\lib\\site-packages (from protobuf>=3.9.2->tf-nightly) (46.1.3)\n",
      "Requirement already satisfied: google-auth-oauthlib<0.5,>=0.4.1 in c:\\users\\nano\\anaconda3\\lib\\site-packages (from tb-nightly<2.4.0a0,>=2.3.0a0->tf-nightly) (0.4.1)\n",
      "Requirement already satisfied: requests<3,>=2.21.0 in c:\\users\\nano\\anaconda3\\lib\\site-packages (from tb-nightly<2.4.0a0,>=2.3.0a0->tf-nightly) (2.21.0)\n",
      "Requirement already satisfied: google-auth<2,>=1.6.3 in c:\\users\\nano\\anaconda3\\lib\\site-packages (from tb-nightly<2.4.0a0,>=2.3.0a0->tf-nightly) (1.14.1)\n",
      "Requirement already satisfied: tensorboard-plugin-wit>=1.6.0 in c:\\users\\nano\\anaconda3\\lib\\site-packages (from tb-nightly<2.4.0a0,>=2.3.0a0->tf-nightly) (1.6.0.post3)\n",
      "Requirement already satisfied: markdown>=2.6.8 in c:\\users\\nano\\anaconda3\\lib\\site-packages (from tb-nightly<2.4.0a0,>=2.3.0a0->tf-nightly) (3.1.1)\n",
      "Requirement already satisfied: werkzeug>=0.11.15 in c:\\users\\nano\\anaconda3\\lib\\site-packages (from tb-nightly<2.4.0a0,>=2.3.0a0->tf-nightly) (0.14.1)\n",
      "Requirement already satisfied: requests-oauthlib>=0.7.0 in c:\\users\\nano\\anaconda3\\lib\\site-packages (from google-auth-oauthlib<0.5,>=0.4.1->tb-nightly<2.4.0a0,>=2.3.0a0->tf-nightly) (1.3.0)\n",
      "Requirement already satisfied: certifi>=2017.4.17 in c:\\users\\nano\\anaconda3\\lib\\site-packages (from requests<3,>=2.21.0->tb-nightly<2.4.0a0,>=2.3.0a0->tf-nightly) (2020.4.5.1)\n",
      "Requirement already satisfied: chardet<3.1.0,>=3.0.2 in c:\\users\\nano\\anaconda3\\lib\\site-packages (from requests<3,>=2.21.0->tb-nightly<2.4.0a0,>=2.3.0a0->tf-nightly) (3.0.4)\n",
      "Requirement already satisfied: urllib3<1.25,>=1.21.1 in c:\\users\\nano\\anaconda3\\lib\\site-packages (from requests<3,>=2.21.0->tb-nightly<2.4.0a0,>=2.3.0a0->tf-nightly) (1.24.1)\n",
      "Requirement already satisfied: idna<2.9,>=2.5 in c:\\users\\nano\\anaconda3\\lib\\site-packages (from requests<3,>=2.21.0->tb-nightly<2.4.0a0,>=2.3.0a0->tf-nightly) (2.8)\n",
      "Requirement already satisfied: rsa<4.1,>=3.1.4 in c:\\users\\nano\\anaconda3\\lib\\site-packages (from google-auth<2,>=1.6.3->tb-nightly<2.4.0a0,>=2.3.0a0->tf-nightly) (4.0)\n",
      "Requirement already satisfied: cachetools<5.0,>=2.0.0 in c:\\users\\nano\\anaconda3\\lib\\site-packages (from google-auth<2,>=1.6.3->tb-nightly<2.4.0a0,>=2.3.0a0->tf-nightly) (4.1.0)\n",
      "Requirement already satisfied: pyasn1-modules>=0.2.1 in c:\\users\\nano\\anaconda3\\lib\\site-packages (from google-auth<2,>=1.6.3->tb-nightly<2.4.0a0,>=2.3.0a0->tf-nightly) (0.2.8)\n",
      "Requirement already satisfied: oauthlib>=3.0.0 in c:\\users\\nano\\anaconda3\\lib\\site-packages (from requests-oauthlib>=0.7.0->google-auth-oauthlib<0.5,>=0.4.1->tb-nightly<2.4.0a0,>=2.3.0a0->tf-nightly) (3.1.0)\n",
      "Requirement already satisfied: pyasn1>=0.1.3 in c:\\users\\nano\\anaconda3\\lib\\site-packages (from rsa<4.1,>=3.1.4->google-auth<2,>=1.6.3->tb-nightly<2.4.0a0,>=2.3.0a0->tf-nightly) (0.4.8)\n"
     ]
    }
   ],
   "source": [
    "#### Word embeddings\n",
    "#### Setup\n",
    "\n",
    "!pip install tf-nightly\n",
    "import tensorflow as tf\n",
    "import tensorflow_datasets as tfds\n",
    "import os"
   ]
  },
  {
   "cell_type": "code",
   "execution_count": 7,
   "metadata": {},
   "outputs": [
    {
     "name": "stdout",
     "output_type": "stream",
     "text": [
      "Downloading data from https://storage.googleapis.com/download.tensorflow.org/data/illiad/cowper.txt\n",
      "819200/815980 [==============================] - 0s 0us/step\n",
      "Downloading data from https://storage.googleapis.com/download.tensorflow.org/data/illiad/derby.txt\n",
      "811008/809730 [==============================] - 0s 0us/step\n",
      "Downloading data from https://storage.googleapis.com/download.tensorflow.org/data/illiad/butler.txt\n",
      "811008/807992 [==============================] - 0s 0us/step\n"
     ]
    },
    {
     "data": {
      "text/plain": [
       "'C:\\\\Users\\\\Nano\\\\.keras\\\\datasets'"
      ]
     },
     "execution_count": 7,
     "metadata": {},
     "output_type": "execute_result"
    }
   ],
   "source": [
    "DIRECTORY_URL = 'https://storage.googleapis.com/download.tensorflow.org/data/illiad/'\n",
    "FILE_NAMES = ['cowper.txt', 'derby.txt', 'butler.txt']\n",
    "\n",
    "for name in FILE_NAMES:\n",
    "  text_dir = tf.keras.utils.get_file(name, origin=DIRECTORY_URL+name)\n",
    "  \n",
    "parent_dir = os.path.dirname(text_dir)\n",
    "\n",
    "parent_dir"
   ]
  },
  {
   "cell_type": "code",
   "execution_count": 8,
   "metadata": {},
   "outputs": [],
   "source": [
    "#### Load text into datasets\n",
    "def labeler(example, index):\n",
    "  return example, tf.cast(index, tf.int64)  \n",
    "\n",
    "labeled_data_sets = []\n",
    "\n",
    "for i, file_name in enumerate(FILE_NAMES):\n",
    "  lines_dataset = tf.data.TextLineDataset(os.path.join(parent_dir, file_name))\n",
    "  labeled_dataset = lines_dataset.map(lambda ex: labeler(ex, i))\n",
    "  labeled_data_sets.append(labeled_dataset)"
   ]
  },
  {
   "cell_type": "code",
   "execution_count": 9,
   "metadata": {},
   "outputs": [],
   "source": [
    "BUFFER_SIZE = 50000\n",
    "BATCH_SIZE = 64\n",
    "TAKE_SIZE = 5000"
   ]
  },
  {
   "cell_type": "code",
   "execution_count": 10,
   "metadata": {},
   "outputs": [],
   "source": [
    "all_labeled_data = labeled_data_sets[0]\n",
    "for labeled_dataset in labeled_data_sets[1:]:\n",
    "  all_labeled_data = all_labeled_data.concatenate(labeled_dataset)\n",
    "  \n",
    "all_labeled_data = all_labeled_data.shuffle(\n",
    "    BUFFER_SIZE, reshuffle_each_iteration=False)"
   ]
  },
  {
   "cell_type": "code",
   "execution_count": 11,
   "metadata": {},
   "outputs": [
    {
     "name": "stdout",
     "output_type": "stream",
     "text": [
      "(<tf.Tensor: shape=(), dtype=string, numpy=b'The Gods, that mighty labor, from beside'>, <tf.Tensor: shape=(), dtype=int64, numpy=0>)\n",
      "(<tf.Tensor: shape=(), dtype=string, numpy=b'That flies before them, screaming; so those two,'>, <tf.Tensor: shape=(), dtype=int64, numpy=1>)\n",
      "(<tf.Tensor: shape=(), dtype=string, numpy=b\"Survey'd the walls of Troy, the ships of Greece,\">, <tf.Tensor: shape=(), dtype=int64, numpy=1>)\n",
      "(<tf.Tensor: shape=(), dtype=string, numpy=b'Jove gives us now a day worth all the past;'>, <tf.Tensor: shape=(), dtype=int64, numpy=0>)\n",
      "(<tf.Tensor: shape=(), dtype=string, numpy=b'For Hector, who the thighs of fatted bulls'>, <tf.Tensor: shape=(), dtype=int64, numpy=0>)\n"
     ]
    }
   ],
   "source": [
    "for ex in all_labeled_data.take(5):\n",
    "  print(ex)"
   ]
  },
  {
   "cell_type": "code",
   "execution_count": 12,
   "metadata": {},
   "outputs": [
    {
     "data": {
      "text/plain": [
       "17178"
      ]
     },
     "execution_count": 12,
     "metadata": {},
     "output_type": "execute_result"
    }
   ],
   "source": [
    "#### Encode text lines as numbers\n",
    "\n",
    "tokenizer = tfds.features.text.Tokenizer()\n",
    "\n",
    "vocabulary_set = set()\n",
    "for text_tensor, _ in all_labeled_data:\n",
    "  some_tokens = tokenizer.tokenize(text_tensor.numpy())\n",
    "  vocabulary_set.update(some_tokens)\n",
    "\n",
    "vocab_size = len(vocabulary_set)\n",
    "vocab_size"
   ]
  },
  {
   "cell_type": "code",
   "execution_count": 13,
   "metadata": {},
   "outputs": [],
   "source": [
    "#### Encode examples\n",
    "\n",
    "encoder = tfds.features.text.TokenTextEncoder(vocabulary_set)"
   ]
  },
  {
   "cell_type": "code",
   "execution_count": 14,
   "metadata": {},
   "outputs": [
    {
     "name": "stdout",
     "output_type": "stream",
     "text": [
      "b'The Gods, that mighty labor, from beside'\n"
     ]
    }
   ],
   "source": [
    "example_text = next(iter(all_labeled_data))[0].numpy()\n",
    "print(example_text)"
   ]
  },
  {
   "cell_type": "code",
   "execution_count": 15,
   "metadata": {},
   "outputs": [
    {
     "name": "stdout",
     "output_type": "stream",
     "text": [
      "[10336, 10635, 2054, 2450, 5207, 10617, 1096]\n"
     ]
    }
   ],
   "source": [
    "encoded_example = encoder.encode(example_text)\n",
    "print(encoded_example)"
   ]
  },
  {
   "cell_type": "code",
   "execution_count": 16,
   "metadata": {},
   "outputs": [],
   "source": [
    "def encode(text_tensor, label):\n",
    "  encoded_text = encoder.encode(text_tensor.numpy())\n",
    "  return encoded_text, label"
   ]
  },
  {
   "cell_type": "code",
   "execution_count": 17,
   "metadata": {},
   "outputs": [],
   "source": [
    "def encode_map_fn(text, label):\n",
    "  # py_func doesn't set the shape of the returned tensors.\n",
    "  encoded_text, label = tf.py_function(encode, \n",
    "                                       inp=[text, label], \n",
    "                                       Tout=(tf.int64, tf.int64))\n",
    "\n",
    "  # `tf.data.Datasets` work best if all components have a shape set\n",
    "  #  so set the shapes manually: \n",
    "  encoded_text.set_shape([None])\n",
    "  label.set_shape([])\n",
    "\n",
    "  return encoded_text, label\n",
    "\n",
    "\n",
    "all_encoded_data = all_labeled_data.map(encode_map_fn)"
   ]
  },
  {
   "cell_type": "code",
   "execution_count": 18,
   "metadata": {},
   "outputs": [],
   "source": [
    "#### Split the dataset into test and train batches\n",
    "\n",
    "train_data = all_encoded_data.skip(TAKE_SIZE).shuffle(BUFFER_SIZE)\n",
    "train_data = train_data.padded_batch(BATCH_SIZE, padded_shapes=([None],[]))\n",
    "\n",
    "test_data = all_encoded_data.take(TAKE_SIZE)\n",
    "test_data = test_data.padded_batch(BATCH_SIZE, padded_shapes=([None],[]))"
   ]
  },
  {
   "cell_type": "code",
   "execution_count": 19,
   "metadata": {},
   "outputs": [],
   "source": [
    "train_data = all_encoded_data.skip(TAKE_SIZE).shuffle(BUFFER_SIZE)\n",
    "train_data = train_data.padded_batch(BATCH_SIZE)\n",
    "\n",
    "test_data = all_encoded_data.take(TAKE_SIZE)\n",
    "test_data = test_data.padded_batch(BATCH_SIZE)"
   ]
  },
  {
   "cell_type": "code",
   "execution_count": 20,
   "metadata": {},
   "outputs": [
    {
     "data": {
      "text/plain": [
       "(<tf.Tensor: shape=(15,), dtype=int64, numpy=\n",
       " array([10336, 10635,  2054,  2450,  5207, 10617,  1096,     0,     0,\n",
       "            0,     0,     0,     0,     0,     0], dtype=int64)>,\n",
       " <tf.Tensor: shape=(), dtype=int64, numpy=0>)"
      ]
     },
     "execution_count": 20,
     "metadata": {},
     "output_type": "execute_result"
    }
   ],
   "source": [
    "sample_text, sample_labels = next(iter(test_data))\n",
    "\n",
    "sample_text[0], sample_labels[0]"
   ]
  },
  {
   "cell_type": "code",
   "execution_count": 21,
   "metadata": {},
   "outputs": [],
   "source": [
    "vocab_size += 1"
   ]
  },
  {
   "cell_type": "code",
   "execution_count": 22,
   "metadata": {},
   "outputs": [],
   "source": [
    "#### Build the model\n",
    "\n",
    "model = tf.keras.Sequential()"
   ]
  },
  {
   "cell_type": "code",
   "execution_count": 23,
   "metadata": {},
   "outputs": [],
   "source": [
    "#### The first layer converts integer representations to dense vector embeddings. \n",
    "\n",
    "model.add(tf.keras.layers.Embedding(vocab_size, 64))"
   ]
  },
  {
   "cell_type": "code",
   "execution_count": 24,
   "metadata": {},
   "outputs": [],
   "source": [
    "#### The next layer is a Long Short-Term Memory layer, which lets the model understand words in their context with other words. \n",
    "#### A bidirectional wrapper on the LSTM helps it to learn about the datapoints in relationship to the datapoints that came before it and after it.\n",
    "\n",
    "model.add(tf.keras.layers.Bidirectional(tf.keras.layers.LSTM(64)))"
   ]
  },
  {
   "cell_type": "code",
   "execution_count": 25,
   "metadata": {},
   "outputs": [],
   "source": [
    "#### Finally we'll have a series of one or more densely connected layers, with the last one being the output layer. \n",
    "#### The output layer produces a probability for all the labels. \n",
    "#### The one with the highest probability is the models prediction of an example's label.\n",
    "\n",
    "# One or more dense layers.\n",
    "# Edit the list in the `for` line to experiment with layer sizes.\n",
    "for units in [64, 64]:\n",
    "  model.add(tf.keras.layers.Dense(units, activation='relu'))\n",
    "\n",
    "# Output layer. The first argument is the number of labels.\n",
    "model.add(tf.keras.layers.Dense(3))"
   ]
  },
  {
   "cell_type": "code",
   "execution_count": 26,
   "metadata": {},
   "outputs": [],
   "source": [
    "#### Finally, compile the model. \n",
    "#### For a softmax categorization model, use sparse_categorical_crossentropy as the loss function. \n",
    "#### You can try other optimizers, but adam is very common.\n",
    "\n",
    "model.compile(optimizer='adam',\n",
    "              loss=tf.keras.losses.SparseCategoricalCrossentropy(from_logits=True),\n",
    "              metrics=['accuracy'])"
   ]
  },
  {
   "cell_type": "code",
   "execution_count": 27,
   "metadata": {},
   "outputs": [
    {
     "name": "stdout",
     "output_type": "stream",
     "text": [
      "WARNING:tensorflow:From C:\\Users\\Nano\\Anaconda3\\lib\\site-packages\\tensorflow\\python\\keras\\engine\\data_adapter.py:745: cardinality (from tensorflow.python.data.experimental.ops.cardinality) is deprecated and will be removed in a future version.\n",
      "Instructions for updating:\n",
      "Use `tf.data.Dataset.cardinality()\n",
      "Epoch 1/3\n",
      "697/697 [==============================] - 21s 31ms/step - loss: 0.5228 - accuracy: 0.7461 - val_loss: 0.3790 - val_accuracy: 0.8332\n",
      "Epoch 2/3\n",
      "697/697 [==============================] - 18s 25ms/step - loss: 0.3013 - accuracy: 0.8684 - val_loss: 0.3539 - val_accuracy: 0.8442\n",
      "Epoch 3/3\n",
      "697/697 [==============================] - 17s 25ms/step - loss: 0.2266 - accuracy: 0.9020 - val_loss: 0.3994 - val_accuracy: 0.8388\n"
     ]
    },
    {
     "data": {
      "text/plain": [
       "<tensorflow.python.keras.callbacks.History at 0x1f1f1936da0>"
      ]
     },
     "execution_count": 27,
     "metadata": {},
     "output_type": "execute_result"
    }
   ],
   "source": [
    "#### Train the model\n",
    "\n",
    "model.fit(train_data, epochs=3, validation_data=test_data)"
   ]
  },
  {
   "cell_type": "code",
   "execution_count": 29,
   "metadata": {},
   "outputs": [
    {
     "name": "stdout",
     "output_type": "stream",
     "text": []
    },
    {
     "name": "stdout",
     "output_type": "stream",
     "text": [
      "79/79 [==============================] - 2s 22ms/step - loss: 0.3994 - accuracy: 0.8388\n",
      "\n",
      "Eval loss: 0.399, Eval accuracy: 0.839\n"
     ]
    }
   ],
   "source": [
    "eval_loss, eval_acc = model.evaluate(test_data)\n",
    "\n",
    "print('\\nEval loss: {:.3f}, Eval accuracy: {:.3f}'.format(eval_loss, eval_acc))"
   ]
  },
  {
   "cell_type": "code",
   "execution_count": null,
   "metadata": {},
   "outputs": [],
   "source": []
  }
 ],
 "metadata": {
  "kernelspec": {
   "display_name": "Python 3",
   "language": "python",
   "name": "python3"
  },
  "language_info": {
   "codemirror_mode": {
    "name": "ipython",
    "version": 3
   },
   "file_extension": ".py",
   "mimetype": "text/x-python",
   "name": "python",
   "nbconvert_exporter": "python",
   "pygments_lexer": "ipython3",
   "version": "3.7.3"
  }
 },
 "nbformat": 4,
 "nbformat_minor": 2
}
